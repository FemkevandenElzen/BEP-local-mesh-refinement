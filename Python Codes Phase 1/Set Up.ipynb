{
 "cells": [
  {
   "cell_type": "code",
   "execution_count": 1,
   "id": "4fc48c96",
   "metadata": {},
   "outputs": [
    {
     "name": "stdout",
     "output_type": "stream",
     "text": [
      "Python 3.9.7\n"
     ]
    }
   ],
   "source": [
    "import sys\n",
    "!{sys.executable} --version"
   ]
  },
  {
   "cell_type": "code",
   "execution_count": 2,
   "id": "2685c290",
   "metadata": {},
   "outputs": [
    {
     "name": "stdout",
     "output_type": "stream",
     "text": [
      "pip 21.3.1 from C:\\Users\\20192167\\AppData\\Roaming\\Python\\Python39\\site-packages\\pip (python 3.9)\n",
      "\n"
     ]
    }
   ],
   "source": [
    "!{sys.executable} -m pip --version"
   ]
  },
  {
   "cell_type": "code",
   "execution_count": 3,
   "id": "6db80027",
   "metadata": {},
   "outputs": [
    {
     "name": "stdout",
     "output_type": "stream",
     "text": [
      "Requirement already satisfied: pip in c:\\users\\20192167\\appdata\\roaming\\python\\python39\\site-packages (21.3.1)\n",
      "Requirement already satisfied: setuptools in c:\\users\\20192167\\appdata\\roaming\\python\\python39\\site-packages (59.2.0)\n",
      "Requirement already satisfied: wheel in c:\\users\\20192167\\anaconda3\\lib\\site-packages (0.37.0)\n"
     ]
    }
   ],
   "source": [
    "!{sys.executable} -m pip install --upgrade pip setuptools wheel --user"
   ]
  },
  {
   "cell_type": "code",
   "execution_count": 4,
   "id": "457bd06a",
   "metadata": {},
   "outputs": [
    {
     "name": "stdout",
     "output_type": "stream",
     "text": [
      "Processing c:\\users\\20192167\\documents\\boeken\\bep\\python_doc_1\\pyvista-0.32.1.tar.gz\n",
      "  Preparing metadata (setup.py): started\n",
      "  Preparing metadata (setup.py): finished with status 'done'\n",
      "Requirement already satisfied: numpy in c:\\users\\20192167\\anaconda3\\lib\\site-packages (from pyvista==0.32.1) (1.20.3)\n",
      "Requirement already satisfied: imageio in c:\\users\\20192167\\anaconda3\\lib\\site-packages (from pyvista==0.32.1) (2.9.0)\n",
      "Requirement already satisfied: pillow in c:\\users\\20192167\\anaconda3\\lib\\site-packages (from pyvista==0.32.1) (8.4.0)\n",
      "Requirement already satisfied: appdirs in c:\\users\\20192167\\anaconda3\\lib\\site-packages (from pyvista==0.32.1) (1.4.4)\n",
      "Collecting scooby>=0.5.1\n",
      "  Using cached scooby-0.5.9-py3-none-any.whl (14 kB)\n",
      "Collecting meshio<5.0,>=4.0.3\n",
      "  Using cached meshio-4.4.6-py3-none-any.whl (158 kB)\n",
      "Collecting vtk\n",
      "  Using cached vtk-9.1.0-cp39-cp39-win_amd64.whl (44.7 MB)\n",
      "Requirement already satisfied: typing_extensions in c:\\users\\20192167\\anaconda3\\lib\\site-packages (from pyvista==0.32.1) (3.10.0.2)\n",
      "Requirement already satisfied: matplotlib>=2.0.0 in c:\\users\\20192167\\anaconda3\\lib\\site-packages (from vtk->pyvista==0.32.1) (3.4.3)\n",
      "Collecting wslink>=1.0.4\n",
      "  Using cached wslink-1.1.1-py3-none-any.whl (20 kB)\n",
      "Requirement already satisfied: kiwisolver>=1.0.1 in c:\\users\\20192167\\anaconda3\\lib\\site-packages (from matplotlib>=2.0.0->vtk->pyvista==0.32.1) (1.3.1)\n",
      "Requirement already satisfied: python-dateutil>=2.7 in c:\\users\\20192167\\anaconda3\\lib\\site-packages (from matplotlib>=2.0.0->vtk->pyvista==0.32.1) (2.8.2)\n",
      "Requirement already satisfied: pyparsing>=2.2.1 in c:\\users\\20192167\\anaconda3\\lib\\site-packages (from matplotlib>=2.0.0->vtk->pyvista==0.32.1) (3.0.4)\n",
      "Requirement already satisfied: cycler>=0.10 in c:\\users\\20192167\\anaconda3\\lib\\site-packages (from matplotlib>=2.0.0->vtk->pyvista==0.32.1) (0.10.0)\n",
      "Collecting aiohttp\n",
      "  Using cached aiohttp-3.8.1-cp39-cp39-win_amd64.whl (554 kB)\n",
      "Requirement already satisfied: six in c:\\users\\20192167\\anaconda3\\lib\\site-packages (from cycler>=0.10->matplotlib>=2.0.0->vtk->pyvista==0.32.1) (1.16.0)\n",
      "Requirement already satisfied: charset-normalizer<3.0,>=2.0 in c:\\users\\20192167\\anaconda3\\lib\\site-packages (from aiohttp->wslink>=1.0.4->vtk->pyvista==0.32.1) (2.0.4)\n",
      "Collecting yarl<2.0,>=1.0\n",
      "  Using cached yarl-1.7.2-cp39-cp39-win_amd64.whl (122 kB)\n",
      "Collecting aiosignal>=1.1.2\n",
      "  Using cached aiosignal-1.2.0-py3-none-any.whl (8.2 kB)\n",
      "Collecting multidict<7.0,>=4.5\n",
      "  Using cached multidict-5.2.0-cp39-cp39-win_amd64.whl (45 kB)\n",
      "Collecting async-timeout<5.0,>=4.0.0a3\n",
      "  Using cached async_timeout-4.0.1-py3-none-any.whl (5.7 kB)\n",
      "Collecting frozenlist>=1.1.1\n",
      "  Using cached frozenlist-1.2.0-cp39-cp39-win_amd64.whl (83 kB)\n",
      "Requirement already satisfied: attrs>=17.3.0 in c:\\users\\20192167\\appdata\\roaming\\python\\python39\\site-packages (from aiohttp->wslink>=1.0.4->vtk->pyvista==0.32.1) (21.2.0)\n",
      "Requirement already satisfied: idna>=2.0 in c:\\users\\20192167\\anaconda3\\lib\\site-packages (from yarl<2.0,>=1.0->aiohttp->wslink>=1.0.4->vtk->pyvista==0.32.1) (3.2)\n",
      "Building wheels for collected packages: pyvista\n",
      "  Building wheel for pyvista (setup.py): started\n",
      "  Building wheel for pyvista (setup.py): finished with status 'done'\n",
      "  Created wheel for pyvista: filename=pyvista-0.32.1-py3-none-any.whl size=1351818 sha256=4e85aead0447e63a1b8f02dae28742460c9589dc9301f29cd481e5cb4c835642\n",
      "  Stored in directory: c:\\users\\20192167\\appdata\\local\\pip\\cache\\wheels\\74\\11\\34\\756c43fe4837063c3c962fcfc88be136846baa0d1f0bd75017\n",
      "Successfully built pyvista\n",
      "Installing collected packages: multidict, frozenlist, yarl, async-timeout, aiosignal, aiohttp, wslink, vtk, scooby, meshio, pyvista\n",
      "Successfully installed aiohttp-3.8.1 aiosignal-1.2.0 async-timeout-4.0.1 frozenlist-1.2.0 meshio-4.4.6 multidict-5.2.0 pyvista-0.32.1 scooby-0.5.9 vtk-9.1.0 wslink-1.1.1 yarl-1.7.2\n"
     ]
    }
   ],
   "source": [
    "!{sys.executable} -m pip install pyvista-0.32.1.tar.gz "
   ]
  },
  {
   "cell_type": "code",
   "execution_count": null,
   "id": "c16c441d",
   "metadata": {},
   "outputs": [],
   "source": []
  }
 ],
 "metadata": {
  "kernelspec": {
   "display_name": "Python 3 (ipykernel)",
   "language": "python",
   "name": "python3"
  },
  "language_info": {
   "codemirror_mode": {
    "name": "ipython",
    "version": 3
   },
   "file_extension": ".py",
   "mimetype": "text/x-python",
   "name": "python",
   "nbconvert_exporter": "python",
   "pygments_lexer": "ipython3",
   "version": "3.9.7"
  }
 },
 "nbformat": 4,
 "nbformat_minor": 5
}
