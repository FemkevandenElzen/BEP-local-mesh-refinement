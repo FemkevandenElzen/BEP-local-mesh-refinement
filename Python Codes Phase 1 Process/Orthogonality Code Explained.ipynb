{
 "cells": [
  {
   "cell_type": "markdown",
   "id": "f54f9d1a",
   "metadata": {},
   "source": [
    "**Importing the desired packages**"
   ]
  },
  {
   "cell_type": "code",
   "execution_count": 1,
   "id": "c3a03ddc",
   "metadata": {},
   "outputs": [],
   "source": [
    "import numpy as np\n",
    "import pyvista\n",
    "import math"
   ]
  },
  {
   "cell_type": "markdown",
   "id": "66bb0d02",
   "metadata": {},
   "source": [
    "**Defining the mesh**"
   ]
  },
  {
   "cell_type": "code",
   "execution_count": 2,
   "id": "e5ca08c1",
   "metadata": {},
   "outputs": [],
   "source": [
    "#Defining the points of the mesh\n",
    "points = np.array([[0,0,0],\n",
    "                  [2,0,0],\n",
    "                  [1,1,0],\n",
    "                  [4,0,0],\n",
    "                  [3,1,0],\n",
    "                  [1,-1,0],\n",
    "                  [3,-1,0],\n",
    "                  [6,0,0],\n",
    "                  [5,1,0],\n",
    "                  [5,-1,0],\n",
    "                  [2,-2,0],\n",
    "                  [4,-2,0]])\n",
    "#Defining the cells of the mesh\n",
    "cells = [[3, 0,1,2], \n",
    "         [3, 1,3,4],\n",
    "         [3, 1,4,2],\n",
    "         [3, 0,5,1],\n",
    "         [3, 5,6,1],\n",
    "         [3, 6,3,1],\n",
    "         [3, 3,8,4],\n",
    "         [3, 3,7,8],\n",
    "         [3, 6,3,9],\n",
    "         [3, 9,7,3],\n",
    "         [3, 5,10,6],\n",
    "         [3, 10,11,6],\n",
    "         [3, 11,9,6]]"
   ]
  },
  {
   "cell_type": "markdown",
   "id": "82661d39",
   "metadata": {},
   "source": [
    "**Determining whether triangular mesh or square mesh**"
   ]
  },
  {
   "cell_type": "code",
   "execution_count": 3,
   "id": "931e57e5",
   "metadata": {},
   "outputs": [],
   "source": [
    "if cells[0][0] == 3: #If the mesh is triangular\n",
    "    z1 = 3\n",
    "    z2 = 5\n",
    "    \n",
    "elif cells[0][0] == 4: #If the mesh is square\n",
    "    z1 = 4\n",
    "    z2 = 6\n"
   ]
  },
  {
   "cell_type": "markdown",
   "id": "0661626b",
   "metadata": {},
   "source": [
    "**Creating a center point for each cell**"
   ]
  },
  {
   "cell_type": "code",
   "execution_count": 4,
   "id": "cde19c19",
   "metadata": {},
   "outputs": [],
   "source": [
    "#----------------------------------------------#\n",
    "#----Creating a center point in each cell------#\n",
    "#----------------------------------------------#\n",
    "\n",
    "len_cells = len(cells) #the total number of cells in the mesh\n",
    "len_points = len(points)\n",
    "p = [] \n",
    "i = 0\n",
    "center = []\n",
    "\n",
    "for y in range(0,len_cells):\n",
    "    for x in range(1,5):\n",
    "        if i < z1:\n",
    "            a = points[cells[y][x]]\n",
    "            p.append(a)\n",
    "            i = i+1\n",
    "        elif i == z1:\n",
    "            if z1==3: #if triangle\n",
    "                c = (p[0]+p[1]+p[2])/3\n",
    "                center.append(c)\n",
    "            elif z1==4: #if square\n",
    "                c = (p[0]+p[1]+p[2]+p[3])/4\n",
    "                center.append(c)\n",
    "            i=0\n",
    "            p = []"
   ]
  },
  {
   "cell_type": "code",
   "execution_count": 6,
   "id": "c681343a",
   "metadata": {},
   "outputs": [
    {
     "data": {
      "text/plain": [
       "[0.39758361765043326,\n",
       " 0.5301114902005777,\n",
       " 0.7951672353008665,\n",
       " 0.39758361765043326,\n",
       " 0.5301114902005777,\n",
       " 0.5301114902005777,\n",
       " 0.7951672353008665,\n",
       " 0.39758361765043326,\n",
       " 0.5301114902005777,\n",
       " 0.39758361765043326,\n",
       " 0.3975836176504332,\n",
       " 0.7951672353008664,\n",
       " 0.3975836176504332]"
      ]
     },
     "execution_count": 6,
     "metadata": {},
     "output_type": "execute_result"
    }
   ],
   "source": [
    "Orthogonality = []\n",
    "\n",
    "for z in range (0,len_cells):    \n",
    "    #-------------------------------------------------#\n",
    "    #-------Determining the neighbouring cells--------#\n",
    "    #-------------------------------------------------#\n",
    "    d = cells[z][1]\n",
    "    e = cells[z][2]\n",
    "    f = cells[z][3]\n",
    "    y = [] #numbers neighbouring cell\n",
    "\n",
    "    x=0\n",
    "    while True:\n",
    "        if x == len_cells:\n",
    "            x=0\n",
    "            break\n",
    "            \n",
    "        elif x <= len_cells:\n",
    "            if d in cells[x][1:] and e in cells[x][1:]:\n",
    "                if x != z:\n",
    "                    y.append(x)\n",
    "                    x = 0\n",
    "                    break\n",
    "        x=x+1\n",
    "    \n",
    "    while True:\n",
    "        if x == len_cells:\n",
    "            x=0\n",
    "            break\n",
    "            \n",
    "        elif x<= len_cells:\n",
    "            if e in cells[x][1:] and f in cells[x][1:]:\n",
    "                if x != z:\n",
    "                    y.append(x)\n",
    "                    x = 0\n",
    "                    break\n",
    "        x=x+1\n",
    "        \n",
    "    while True:\n",
    "        if x == len_cells:\n",
    "            x = 0\n",
    "            break\n",
    "            \n",
    "        elif x<= len_cells:\n",
    "            if f in cells[x][1:] and d in cells[x][1:]:\n",
    "                if x != z:\n",
    "                    y.append(x)\n",
    "                    x = 0\n",
    "                    break \n",
    "        x=x+1  \n",
    "        \n",
    "    #------------------------------------------#\n",
    "    #------Calculating the Orthogonality-------#\n",
    "    #------------------------------------------#\n",
    "    \n",
    "    orthogonalitytotal = []\n",
    "    \n",
    "    for x in range(0,len(y)):\n",
    "        o = center[z]\n",
    "        a = abs(center[y[x]]-o)\n",
    "        if a[0] == 0 or a[1]==0:\n",
    "            orthogonalitytotal.append(0)\n",
    "        else:\n",
    "            alpha = math.degrees(math.atan(a[1]/a[0]))\n",
    "            orthogonalitya = abs((90-alpha)/(90))\n",
    "            orthogonalitytotal.append(orthogonalitya)\n",
    "  \n",
    "    orthogonality = sum(orthogonalitytotal)/len(y)\n",
    "    Orthogonality.append(orthogonality)\n",
    "    \n",
    "Orthogonality"
   ]
  },
  {
   "cell_type": "code",
   "execution_count": 7,
   "id": "e8690e78",
   "metadata": {},
   "outputs": [
    {
     "name": "stderr",
     "output_type": "stream",
     "text": [
      "C:\\Users\\20192167\\Anaconda3\\lib\\site-packages\\pyvista\\jupyter\\notebook.py:60: UserWarning: Failed to use notebook backend: \n",
      "\n",
      "Please install `ipyvtklink` to use this feature: https://github.com/Kitware/ipyvtklink\n",
      "\n",
      "Falling back to a static output.\n",
      "  warnings.warn(f'Failed to use notebook backend: \\n\\n{e}\\n\\n'\n"
     ]
    },
    {
     "data": {
      "image/png": "[encoded data removed]",
      "text/plain": [
       "<PIL.Image.Image image mode=RGB size=1024x768 at 0x1FA302BE1F0>"
      ]
     },
     "metadata": {},
     "output_type": "display_data"
    }
   ],
   "source": [
    "points1= np.vstack((points,center))\n",
    "#-------------------------------------------#\n",
    "#---------Plotting the new mesh-------------#\n",
    "#-------------------------------------------#\n",
    "mesh = pyvista.PolyData(points1, cells)\n",
    "pl = pyvista.Plotter()\n",
    "pl.add_mesh(mesh, show_edges=True, line_width=0.5)\n",
    "#label_coords = mesh.points + [0, 0, 0.01]\n",
    "#pl.add_point_labels(label_coords, [f'Point {i}' for i in range(len(points1))],\n",
    "#                    font_size=20, point_size=20)\n",
    "pl.camera_position = 'xy'\n",
    "pl.show() "
   ]
  }
 ],
 "metadata": {
  "kernelspec": {
   "display_name": "Python 3 (ipykernel)",
   "language": "python",
   "name": "python3"
  },
  "language_info": {
   "codemirror_mode": {
    "name": "ipython",
    "version": 3
   },
   "file_extension": ".py",
   "mimetype": "text/x-python",
   "name": "python",
   "nbconvert_exporter": "python",
   "pygments_lexer": "ipython3",
   "version": "3.9.7"
  }
 },
 "nbformat": 4,
 "nbformat_minor": 5
}
