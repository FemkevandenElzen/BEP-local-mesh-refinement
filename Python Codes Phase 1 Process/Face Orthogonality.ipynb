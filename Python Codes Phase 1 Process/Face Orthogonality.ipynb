{
 "cells": [
  {
   "cell_type": "markdown",
   "id": "d09c2e43",
   "metadata": {},
   "source": [
    "# Orthonality 2.0"
   ]
  },
  {
   "cell_type": "markdown",
   "id": "a12cde46",
   "metadata": {},
   "source": [
    "http://dspace.nwu.ac.za/bitstream/handle/10394/9722/Van_der_Westhuizen_N.pdf?sequence=1\n",
    "\n",
    "https://cfdisrael.blog/2019/02/01/know-thy-mesh-mesh-quality-part-i/\n",
    "\n",
    "http://support.moldex3d.com/r16/en/modelpreparation_reference-pre_meshqualitydefinition.html\n",
    "\n",
    "https://journals.sagepub.com/doi/pdf/10.1260/1748-3018.6.1.129\n",
    "\n",
    "https://mescalea.grupossc.com/content/mobilePdf/Mesh-Intro_19R2_M05_Lecture_Slides_Mesh_Quality_and_Advanced_Topics.pdf"
   ]
  },
  {
   "cell_type": "markdown",
   "id": "e8983331",
   "metadata": {},
   "source": [
    "**face orthogonality**"
   ]
  },
  {
   "cell_type": "code",
   "execution_count": 1,
   "id": "2ffa3624",
   "metadata": {},
   "outputs": [],
   "source": [
    "import numpy as np\n",
    "import pyvista\n",
    "import math"
   ]
  },
  {
   "cell_type": "code",
   "execution_count": 2,
   "id": "c1e701e9",
   "metadata": {},
   "outputs": [],
   "source": [
    "#Defining the points of the mesh\n",
    "points = np.array([[0,0,0],\n",
    "                  [2,0,0],\n",
    "                  [1,1,0],\n",
    "                  [4,0,0],\n",
    "                  [3,1,0],\n",
    "                  [1,-1,0],\n",
    "                  [3,-1,0],\n",
    "                  [6,0,0],\n",
    "                  [5,1,0],\n",
    "                  [5,-1,0],\n",
    "                  [2,-2,0],\n",
    "                  [4,-2,0]])\n",
    "#Defining the cells of the mesh\n",
    "cells = [[3, 0,1,2], \n",
    "         [3, 1,3,4],\n",
    "         [3, 1,4,2],\n",
    "         [3, 0,5,1],\n",
    "         [3, 5,6,1],\n",
    "         [3, 6,3,1],\n",
    "         [3, 3,8,4],\n",
    "         [3, 3,7,8],\n",
    "         [3, 6,3,9],\n",
    "         [3, 9,7,3],\n",
    "         [3, 5,10,6],\n",
    "         [3, 10,11,6],\n",
    "         [3, 11,9,6]]"
   ]
  },
  {
   "cell_type": "code",
   "execution_count": 3,
   "id": "cf811138",
   "metadata": {},
   "outputs": [],
   "source": [
    "if cells[0][0] == 3: #If the mesh is triangular\n",
    "    z1 = 3\n",
    "    z2 = 5\n",
    "    \n",
    "elif cells[0][0] == 4: #If the mesh is square\n",
    "    z1 = 4\n",
    "    z2 = 6"
   ]
  },
  {
   "cell_type": "code",
   "execution_count": 4,
   "id": "09593cb1",
   "metadata": {},
   "outputs": [
    {
     "name": "stdout",
     "output_type": "stream",
     "text": [
      "[0.8944271909999159, 0.8944271909999159, 0.8944271909999157, 0.8944271909999159, 0.8944271909999157, 0.8944271909999159, 0.8944271909999157, 0.8944271909999159, 0.8944271909999157, 0.8944271909999159, 0.8944271909999159, 0.8944271909999159, 0.8944271909999159]\n"
     ]
    }
   ],
   "source": [
    "#----------------------------------------------#\n",
    "#----Creating a center point in each cell------#\n",
    "#----------------------------------------------#\n",
    "\n",
    "len_cells = len(cells) #the total number of cells in the mesh\n",
    "len_points = len(points)\n",
    "Orthogonality = []\n",
    "\n",
    "if z1 ==3: #if triangle\n",
    "    for y in range(0,len_cells):\n",
    "        p=[]\n",
    "        i = 0\n",
    "        \n",
    "        d = cells[y][1]\n",
    "        e = cells[y][2]\n",
    "        f = cells[y][3]\n",
    "    \n",
    "        for x in range(1,5):\n",
    "            if i < z1:\n",
    "                a = points[cells[y][x]]\n",
    "                p.append(a)\n",
    "                i = i+1\n",
    "            elif i == z1:\n",
    "                center = (p[0]+p[1]+p[2])/3\n",
    "                point1 = ((points[e]+points[d])/2) #creating a additional point in the middle of the first edge of the side\n",
    "                point2 = ((points[f]+points[e])/2) #creating a additional point in the middle of the second edge of the side\n",
    "                point3 = ((points[d]+points[f])/2) #creating a additional point in the middle of the third edge of the side \n",
    "                \n",
    "                e1= point1-center #center to point1\n",
    "                e2= point2-center #center to point2\n",
    "                e3= point3-center #center to point3\n",
    "                vectors_e = [e1[:2],e2[:2],e3[:2]]\n",
    "                \n",
    "                v1= points[e]-points[d]\n",
    "                v2= points[f]-points[e]\n",
    "                v3= points[d]-points[f]\n",
    "                \n",
    "                #v=(a,b) u=(b,-a) #perpendicular\n",
    "                A1= (v1[1],-v1[0]) #perpendicular to side de\n",
    "                A2= (v2[1],-v2[0])#perpendicular to side ef\n",
    "                A3= (v3[1],-v3[0])#perpendicular to side fd\n",
    "                vectors_A=[A1,A2,A3]\n",
    "                \n",
    "                orth = []\n",
    "                for o in range(0,3):\n",
    "                    dot_e_A = abs((vectors_A[o][0]*vectors_e[o][0])+(vectors_A[o][1]*vectors_e[o][1]))\n",
    "                    magnitude_e = math.sqrt((vectors_e[o][0])**2+(vectors_e[o][1])**2)\n",
    "                    magnitude_A = math.sqrt((vectors_A[o][0])**2+(vectors_A[o][1])**2)\n",
    "                    ort = (dot_e_A)/(magnitude_e*magnitude_A)\n",
    "                    orth.append(ort)\n",
    "                Orthogonality.append(min(orth))\n",
    "\n",
    "                                        \n",
    "elif z1==4: #if square\n",
    "\n",
    "    for y in range(0,len_cells):\n",
    "        p=[]\n",
    "        i = 0\n",
    "        \n",
    "        d = cells[y][1]\n",
    "        e = cells[y][2]\n",
    "        f = cells[y][3]\n",
    "        g = cells[y][4]\n",
    "        \n",
    "        for x in range(1,5):\n",
    "            if i < z1:\n",
    "                a = points[cells[y][x]]\n",
    "                p.append(a)\n",
    "                i = i+1\n",
    "            elif i == z1:\n",
    "                center = (p[0]+p[1]+p[2]+p[3])/4\n",
    "                point1 = ((points[e]+points[d])/2) #creating a additional point in the middle of the first edge of the side\n",
    "                point2 = ((points[f]+points[e])/2) #creating a additional point in the middle of the second edge of the side\n",
    "                point3 = ((points[g]+points[f])/2) #creating a additional point in the middle of the third edge of the side\n",
    "                point4 = ((points[f]+points[d])/2) #creating a additional point in the middle of the third edge of the side\n",
    "                \n",
    "                e1= point1-center #center to point1\n",
    "                e2= point2-center #center to point2\n",
    "                e3= point3-center #center to point3\n",
    "                e4= point4-center #center to point4\n",
    "                vectors_e = [e1[:2],e2[:2],e3[:2], e4[:2]]\n",
    "                \n",
    "                v1= points[e]-points[d]\n",
    "                v2= points[f]-points[e]\n",
    "                v3= points[g]-points[f]\n",
    "                v4= points[d]-points[g]\n",
    "                \n",
    "                #v=(a,b) u=(b,-a) #perpendicular\n",
    "                A1= (v1[1],-v1[0]) #perpendicular to side de\n",
    "                A2= (v2[1],-v2[0])#perpendicular to side ef\n",
    "                A3= (v3[1],-v3[0])#perpendicular to side fg\n",
    "                A3= (v4[1],-v4[0])#perpendicular to side gd\n",
    "                vectors_A=[A1,A2,A3,A4]\n",
    "                \n",
    "                orth = []\n",
    "                for o in range(0,4):\n",
    "                    dot_e_A = abs((vectors_A[o][0]*vectors_e[o][0])+(vectors_A[o][1]*vectors_e[o][1]))\n",
    "                    magnitude_e = math.sqrt((vectors_e[o][0])**2+(vectors_e[o][1])**2)\n",
    "                    magnitude_A = math.sqrt((vectors_A[o][0])**2+(vectors_A[o][1])**2)\n",
    "                    ort = (dot_e_A)/(magnitude_e*magnitude_A)\n",
    "                    orth.append(ort)\n",
    "                Orthogonality.append(min(orth))\n",
    "print(Orthogonality)"
   ]
  },
  {
   "cell_type": "code",
   "execution_count": 5,
   "id": "d2ac7c4b",
   "metadata": {},
   "outputs": [
    {
     "name": "stderr",
     "output_type": "stream",
     "text": [
      "C:\\Users\\20192167\\Anaconda3\\lib\\site-packages\\pyvista\\jupyter\\notebook.py:60: UserWarning: Failed to use notebook backend: \n",
      "\n",
      "Please install `ipyvtklink` to use this feature: https://github.com/Kitware/ipyvtklink\n",
      "\n",
      "Falling back to a static output.\n",
      "  warnings.warn(f'Failed to use notebook backend: \\n\\n{e}\\n\\n'\n"
     ]
    },
    {
     "data": {
      "image/png": "[encoded data removed]",
      "text/plain": [
       "<PIL.Image.Image image mode=RGB size=1024x768 at 0x1ED0569D4C0>"
      ]
     },
     "metadata": {},
     "output_type": "display_data"
    }
   ],
   "source": [
    "points1= np.vstack((points,center))\n",
    "#-------------------------------------------#\n",
    "#---------Plotting the new mesh-------------#\n",
    "#-------------------------------------------#\n",
    "mesh = pyvista.PolyData(points1, cells)\n",
    "pl = pyvista.Plotter()\n",
    "pl.add_mesh(mesh, show_edges=True, line_width=0.5)\n",
    "label_coords = mesh.points + [0, 0, 0.01]\n",
    "pl.add_point_labels(label_coords, [f'Point {i}' for i in range(len(points1))],\n",
    "                    font_size=20, point_size=20)\n",
    "pl.camera_position = 'xy'\n",
    "pl.show() "
   ]
  },
  {
   "cell_type": "code",
   "execution_count": null,
   "id": "335b7b17",
   "metadata": {},
   "outputs": [],
   "source": []
  }
 ],
 "metadata": {
  "kernelspec": {
   "display_name": "Python 3 (ipykernel)",
   "language": "python",
   "name": "python3"
  },
  "language_info": {
   "codemirror_mode": {
    "name": "ipython",
    "version": 3
   },
   "file_extension": ".py",
   "mimetype": "text/x-python",
   "name": "python",
   "nbconvert_exporter": "python",
   "pygments_lexer": "ipython3",
   "version": "3.9.7"
  }
 },
 "nbformat": 4,
 "nbformat_minor": 5
}
