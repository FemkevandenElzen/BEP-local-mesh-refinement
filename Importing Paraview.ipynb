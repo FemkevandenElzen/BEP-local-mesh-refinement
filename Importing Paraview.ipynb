{
 "cells": [
  {
   "cell_type": "markdown",
   "id": "dab9cb14",
   "metadata": {},
   "source": [
    "# Importing Paraview"
   ]
  },
  {
   "cell_type": "code",
   "execution_count": 1,
   "id": "a54acac1",
   "metadata": {},
   "outputs": [],
   "source": [
    "#conda install -c anaconda vtk"
   ]
  },
  {
   "cell_type": "code",
   "execution_count": 2,
   "id": "f219ff91",
   "metadata": {},
   "outputs": [],
   "source": [
    "#pip install pyvistaqt"
   ]
  },
  {
   "cell_type": "code",
   "execution_count": 3,
   "id": "f03282ff",
   "metadata": {},
   "outputs": [
    {
     "name": "stderr",
     "output_type": "stream",
     "text": [
      "WARNING:root:meshio does not support tags of string type.\n",
      "    Surface tag  airfoil will be replaced by 1\n",
      "WARNING:root:meshio does not support tags of string type.\n",
      "    Surface tag  farfield will be replaced by 2\n"
     ]
    },
    {
     "data": {
      "text/plain": [
       "<vtkmodules.vtkRenderingAnnotation.vtkCubeAxesActor(0x000001E4AD484EA0) at 0x000001E4A7DC8CA0>"
      ]
     },
     "execution_count": 3,
     "metadata": {},
     "output_type": "execute_result"
    }
   ],
   "source": [
    "import numpy as np\n",
    "import pyvista as pv\n",
    "import pyvistaqt as pvqt\n",
    "dataset = pv.read('C:/Users/20192167/Documents/Boeken/BEP/SU2-master/SU2-master/QuickStart/mesh_NACA0012_inv.su2')\n",
    "plotter = pvqt.BackgroundPlotter()\n",
    "plotter.add_mesh(dataset,show_edges=True)\n",
    "plotter.view_xy(negative=False)\n",
    "plotter.show_bounds()"
   ]
  },
  {
   "cell_type": "code",
   "execution_count": 4,
   "id": "18eb1dbd",
   "metadata": {},
   "outputs": [
    {
     "data": {
      "text/html": [
       "<table><tr><th>Header</th><th>Data Arrays</th></tr><tr><td>\n",
       "<table>\n",
       "<tr><th>UnstructuredGrid</th><th>Information</th></tr>\n",
       "<tr><td>N Cells</td><td>10216</td></tr>\n",
       "<tr><td>N Points</td><td>5233</td></tr>\n",
       "<tr><td>X Bounds</td><td>-2.000e+01, 2.000e+01</td></tr>\n",
       "<tr><td>Y Bounds</td><td>-1.996e+01, 1.996e+01</td></tr>\n",
       "<tr><td>Z Bounds</td><td>0.000e+00, 0.000e+00</td></tr>\n",
       "<tr><td>N Arrays</td><td>7</td></tr>\n",
       "</table>\n",
       "\n",
       "</td><td>\n",
       "<table>\n",
       "<tr><th>Name</th><th>Field</th><th>Type</th><th>N Comp</th><th>Min</th><th>Max</th></tr>\n",
       "<tr><td>Density</td><td>Points</td><td>float32</td><td>1</td><td>7.770e-01</td><td>1.745e+00</td></tr>\n",
       "<tr><td>Momentum</td><td>Points</td><td>float32</td><td>3</td><td>-1.807e+02</td><td>3.563e+02</td></tr>\n",
       "<tr><td>Energy</td><td>Points</td><td>float32</td><td>1</td><td>1.907e+05</td><td>3.858e+05</td></tr>\n",
       "<tr><td>Pressure</td><td>Points</td><td>float32</td><td>1</td><td>4.984e+04</td><td>1.543e+05</td></tr>\n",
       "<tr><td>Temperature</td><td>Points</td><td>float32</td><td>1</td><td>2.228e+02</td><td>3.081e+02</td></tr>\n",
       "<tr><td>Mach</td><td>Points</td><td>float32</td><td>1</td><td>3.380e-03</td><td>1.383e+00</td></tr>\n",
       "<tr><td>Pressure_Coefficient</td><td>Points</td><td>float32</td><td>1</td><td>-1.134e+00</td><td>1.168e+00</td></tr>\n",
       "</table>\n",
       "\n",
       "</td></tr> </table>"
      ],
      "text/plain": [
       "UnstructuredGrid (0x1e4b058ee80)\n",
       "  N Cells:\t10216\n",
       "  N Points:\t5233\n",
       "  X Bounds:\t-2.000e+01, 2.000e+01\n",
       "  Y Bounds:\t-1.996e+01, 1.996e+01\n",
       "  Z Bounds:\t0.000e+00, 0.000e+00\n",
       "  N Arrays:\t7"
      ]
     },
     "execution_count": 4,
     "metadata": {},
     "output_type": "execute_result"
    }
   ],
   "source": [
    "import pyvista as pv\n",
    "pd = pv.read('C:/Users/20192167/Documents/Boeken/BEP/SU2-master/SU2-master/QuickStart/flow.vtu')\n",
    "pd"
   ]
  },
  {
   "cell_type": "code",
   "execution_count": 6,
   "id": "00bcac04",
   "metadata": {},
   "outputs": [
    {
     "data": {
      "text/plain": [
       "array([293.03778, 290.83038, 289.12076, ..., 273.13605, 273.0605 ,\n",
       "       273.11478], dtype=float32)"
      ]
     },
     "execution_count": 6,
     "metadata": {},
     "output_type": "execute_result"
    }
   ],
   "source": [
    "temperature = pd['Temperature']\n",
    "temperature"
   ]
  },
  {
   "cell_type": "code",
   "execution_count": 11,
   "id": "23a5f6a5",
   "metadata": {},
   "outputs": [],
   "source": [
    "from matplotlib.colors import ListedColormap\n",
    "import matplotlib.pyplot as plt\n",
    "import numpy as np\n",
    "\n",
    "import pyvista as pv\n",
    "from pyvista import examples\n",
    "\n",
    "# Define the colors we want to use\n",
    "blue = np.array([12/256, 238/256, 246/256, 1])\n",
    "black = np.array([11/256, 11/256, 11/256, 1])\n",
    "grey = np.array([189/256, 189/256, 189/256, 1])\n",
    "yellow = np.array([255/256, 247/256, 0/256, 1])\n",
    "green = np.array([200/256, 247/256, 0/256, 1])\n",
    "lightgreen = np.array([200/256, 247/256, 200/256, 1])\n",
    "greenblue = np.array([12/256, 238/256, 200/256, 1])\n",
    "darkblue = np.array([12/256, 150/256, 246/256, 1])\n",
    "purple= np.array([200/256, 50/256, 246/256, 1])\n",
    "pink= np.array([250/256, 50/256, 246/256, 1])\n",
    "lightpink = np.array([250/256, 50/256, 246/256, 0.7])\n",
    "orange = np.array([250/256, 150/256, 0/256, 0.7])\n",
    "yelloworange = np.array([250/256, 200/256, 0/256, 0.7])\n",
    "\n",
    "Temperature = np.linspace(pd['Temperature'].min(), pd['Temperature'].max(), 256)\n",
    "\n",
    "newcolors = np.empty((256, 4))\n",
    "newcolors[Temperature >= 200] = green\n",
    "newcolors[Temperature > 210] = greenblue\n",
    "newcolors[Temperature > 220] = blue\n",
    "newcolors[Temperature > 230] = darkblue\n",
    "newcolors[Temperature > 240] = purple\n",
    "newcolors[Temperature > 250] = pink\n",
    "newcolors[Temperature > 260] = lightpink\n",
    "newcolors[Temperature > 270] = orange\n",
    "newcolors[Temperature > 280] = yelloworange\n",
    "newcolors[Temperature > 290] = yellow\n",
    "newcolors[Temperature >= 300] = orange\n",
    "\n",
    "my_colormap = ListedColormap(newcolors)\n",
    "\n",
    "\n",
    "pl = pvqt.BackgroundPlotter()\n",
    "pl.set_background('white')\n",
    "pv.global_theme.font.color = 'black'\n",
    "pl.add_mesh(pd, show_edges=True, line_width=0.5,scalars='Temperature',\n",
    "            cmap=my_colormap,clim=[200, 300])\n",
    "pl.camera_position = 'xy'\n",
    "pl.show()"
   ]
  },
  {
   "cell_type": "code",
   "execution_count": 8,
   "id": "94dc18dc",
   "metadata": {},
   "outputs": [
    {
     "data": {
      "text/plain": [
       "array([130853.62, 125715.44, 123300.81, ..., 101277.69, 101210.34,\n",
       "       101271.09], dtype=float32)"
      ]
     },
     "execution_count": 8,
     "metadata": {},
     "output_type": "execute_result"
    }
   ],
   "source": [
    "pressure = pd['Pressure']\n",
    "pressure"
   ]
  },
  {
   "cell_type": "code",
   "execution_count": 10,
   "id": "bb524a21",
   "metadata": {},
   "outputs": [],
   "source": [
    "from matplotlib.colors import ListedColormap\n",
    "import matplotlib.pyplot as plt\n",
    "import numpy as np\n",
    "\n",
    "import pyvista as pv\n",
    "from pyvista import examples\n",
    "\n",
    "# Define the colors we want to use\n",
    "blue = np.array([12/256, 238/256, 246/256, 1])\n",
    "black = np.array([11/256, 11/256, 11/256, 1])\n",
    "grey = np.array([189/256, 189/256, 189/256, 1])\n",
    "yellow = np.array([255/256, 247/256, 0/256, 1])\n",
    "green = np.array([200/256, 247/256, 0/256, 1])\n",
    "lightgreen = np.array([200/256, 247/256, 200/256, 1])\n",
    "greenblue = np.array([12/256, 238/256, 200/256, 1])\n",
    "darkblue = np.array([12/256, 150/256, 246/256, 1])\n",
    "purple= np.array([200/256, 50/256, 246/256, 1])\n",
    "pink= np.array([250/256, 50/256, 246/256, 1])\n",
    "lightpink = np.array([250/256, 50/256, 246/256, 0.7])\n",
    "orange = np.array([250/256, 150/256, 0/256, 0.7])\n",
    "yelloworange = np.array([250/256, 200/256, 0/256, 0.7])\n",
    "\n",
    "Pressure = np.linspace(pd['Pressure'].min(), pd['Pressure'].max(), 256)\n",
    "\n",
    "newcolors = np.empty((256, 4))\n",
    "newcolors[Pressure >= 90000] = green\n",
    "newcolors[Pressure > 95000] = greenblue\n",
    "newcolors[Pressure > 100000] = blue\n",
    "newcolors[Pressure > 105000] = darkblue\n",
    "newcolors[Pressure > 110000] = purple\n",
    "newcolors[Pressure > 115000] = pink\n",
    "newcolors[Pressure > 120000] = lightpink\n",
    "newcolors[Pressure > 125000] = orange\n",
    "newcolors[Pressure > 130000] = yelloworange\n",
    "newcolors[Pressure > 135000] = yellow\n",
    "newcolors[Pressure >= 140000] = orange\n",
    "\n",
    "my_colormap = ListedColormap(newcolors)\n",
    "\n",
    "\n",
    "pl = pvqt.BackgroundPlotter()\n",
    "pl.set_background('white')\n",
    "pv.global_theme.font.color = 'black'\n",
    "pl.add_mesh(pd, show_edges=True, line_width=0.5,scalars='Pressure',\n",
    "            cmap=my_colormap,clim=[9000, 14000])\n",
    "pl.camera_position = 'xy'\n",
    "pl.show()"
   ]
  },
  {
   "cell_type": "code",
   "execution_count": 12,
   "id": "95b68767",
   "metadata": {},
   "outputs": [
    {
     "data": {
      "text/plain": [
       "array([-2.2073975 , -1.9585114 , -1.5203857 , ..., -0.01873779,\n",
       "       -0.01063538,  0.05429077], dtype=float32)"
      ]
     },
     "execution_count": 12,
     "metadata": {},
     "output_type": "execute_result"
    }
   ],
   "source": [
    "temperature = pd['Temperature']\n",
    "np.gradient(temperature, axis=None, edge_order=1)\n"
   ]
  },
  {
   "cell_type": "code",
   "execution_count": null,
   "id": "4ae9c12c",
   "metadata": {},
   "outputs": [],
   "source": []
  }
 ],
 "metadata": {
  "kernelspec": {
   "display_name": "Python 3 (ipykernel)",
   "language": "python",
   "name": "python3"
  },
  "language_info": {
   "codemirror_mode": {
    "name": "ipython",
    "version": 3
   },
   "file_extension": ".py",
   "mimetype": "text/x-python",
   "name": "python",
   "nbconvert_exporter": "python",
   "pygments_lexer": "ipython3",
   "version": "3.9.7"
  }
 },
 "nbformat": 4,
 "nbformat_minor": 5
}
